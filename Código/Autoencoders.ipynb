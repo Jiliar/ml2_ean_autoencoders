{
 "cells": [
  {
   "cell_type": "markdown",
   "id": "7e688e25-d43d-4051-82eb-eaa4d8e5007e",
   "metadata": {},
   "source": [
    "### ⭕️ Redes Neuronales: Teoría y Práctica en Detección de Fraude Financiero con Autoencoders\n",
    "\n",
    "---\n",
    "\n",
    "### 📘 Introducción\n",
    "\n",
    "La detección de fraude en transacciones financieras es un problema crucial en la era digital. A medida que los sistemas de pago electrónicos se expanden, también lo hacen las técnicas fraudulentas, poniendo en riesgo los activos de millones de personas y empresas. Este proyecto se enfoca en la implementación de técnicas de aprendizaje automático, con énfasis en redes neuronales profundas tipo autoencoder, para identificar transacciones sospechosas dentro de un conjunto realista de datos financieros.\n",
    "\n",
    "---\n",
    "\n",
    "### 🎯 Objetivos\n",
    "\n",
    "**Objetivo General:**\n",
    "\n",
    "Implementar un sistema de detección de anomalías basado en autoencoders utilizando Keras para identificar patrones de fraude financiero en un dataset simulado de transacciones bancarias.\n",
    "\n",
    "**Objetivos Específicos:**\n",
    "\n",
    "- Analizar, explorar y preprocesar un conjunto de datos transaccionales con características numéricas y categóricas.\n",
    "- Desarrollar un modelo autoencoder para identificar transacciones anómalas sin supervisión directa.\n",
    "- Evaluar el modelo utilizando métricas como precisión, recall y matriz de confusión.\n",
    "- Establecer umbrales óptimos de error de reconstrucción para maximizar la detección de fraudes reales.\n",
    "\n",
    "---\n",
    "\n",
    "### ⚠️ Núcleo Problemático\n",
    "\n",
    "Las instituciones financieras enfrentan un constante desafío: detectar de manera precisa y en tiempo real transacciones fraudulentas entre millones de operaciones legítimas. La alta desproporción de datos (desequilibrio de clases) y la naturaleza cambiante de los patrones de fraude dificultan el uso de enfoques tradicionales. Se requieren técnicas capaces de aprender las características normales del sistema y detectar desviaciones sutiles que puedan representar riesgos.\n",
    "\n",
    "---\n",
    "\n",
    "### ❓ Pregunta Problemática\n",
    "\n",
    "> ¿Es posible detectar transacciones financieras fraudulentas utilizando un autoencoder entrenado únicamente con datos normales, y cómo se puede ajustar su arquitectura y umbral de detección para maximizar el rendimiento del modelo?\n",
    "\n",
    "---\n",
    "\n",
    "### 🧪 Metodología\n",
    "\n",
    "1. **Exploración del Dataset:**  \n",
    "   Comprensión del conjunto de datos, estructura, tipos de variables y distribución de clases.\n",
    "\n",
    "2. **Preprocesamiento:**  \n",
    "   - Limpieza de datos: manejo de valores nulos, duplicados y outliers.  \n",
    "   - Codificación de variables categóricas y normalización de datos numéricos.\n",
    "\n",
    "3. **Construcción del Autoencoder:**  \n",
    "   - Arquitectura basada en capas simétricas de codificación y decodificación.  \n",
    "   - Entrenamiento exclusivamente con transacciones normales.\n",
    "\n",
    "4. **Evaluación del Modelo:**  \n",
    "   - Cálculo del error de reconstrucción sobre todo el dataset.  \n",
    "   - Determinación de umbral de anomalía.  \n",
    "   - Evaluación con métricas de clasificación.\n",
    "\n",
    "5. **Visualización y análisis de resultados:**  \n",
    "   Análisis gráfico del error de reconstrucción y comparación con etiquetas reales de fraude.\n",
    "\n",
    "6. **Conclusión y reflexión:**  \n",
    "   Interpretación de resultados, ventajas y limitaciones del uso de autoencoders para la detección de fraude financiero.\n",
    "\n",
    "---"
   ]
  },
  {
   "cell_type": "markdown",
   "id": "d8b7469d-e896-4939-a4a9-dfa8daed2120",
   "metadata": {},
   "source": [
    "### **🔍 1. Exploración de los datos**\n",
    "#### **⭕️ Introducción a la Fase de Exploración de Datos**\n",
    "\n",
    "En esta fase inicial del análisis de datos, se realiza una exploración preliminar del conjunto de datos para comprender su estructura y características básicas. Esta etapa es crucial para identificar los aspectos fundamentales del dataset y preparar el terreno para un análisis más profundo.\n",
    "\n",
    "Durante la exploración, se utilizan diversas instrucciones para obtener una visión general del conjunto de datos:\n",
    "\n",
    "- **`df.info()`**: Proporciona un resumen conciso de la información del DataFrame, incluyendo el número de entradas no nulas y los tipos de datos de cada columna.\n",
    "- **`print(df.shape)`**: Muestra las dimensiones del DataFrame, es decir, el número de filas y columnas.\n",
    "- **`print(df.head())`**: Muestra las primeras filas del DataFrame, facilitando una vista rápida de los datos.\n",
    "- **`print(df.tail())`**: Muestra las últimas filas del DataFrame, útil para verificar el final del dataset.\n",
    "- **`print(total_size)`**: Indica el tamaño total del DataFrame en términos de número de filas.\n",
    "- **`print(df.shape)`**: Indica la dimensión del Dataframe (filas, columnas).\n",
    "- **`print(df.memory_usage(deep=True))`**: Proporciona el uso de memoria por columna, permitiendo identificar el consumo de recursos.\n",
    "- **`print(df.columns)`**: Lista los nombres de todas las columnas e\n",
    "- **`df.describe()`**: Ver generalidades estadisticas del grupo de datos.n el DataFrame.\n",
    "\n",
    "Estas instrucciones ofrecen una visión general del conjunto de datos, ayudando a detectar posibles problemas como datos faltantes, tipos de datos incorrectos o inconsistencias. Esta exploración es un primer paso esencial para un análiquipos tecnológicos."
   ]
  },
  {
   "cell_type": "code",
   "execution_count": 1,
   "id": "d8c8f810-fd23-4db6-a1b0-57dde73dbe01",
   "metadata": {},
   "outputs": [],
   "source": [
    "## Carga y Exploración de Datos\n",
    "import pandas as pd\n",
    "import numpy as np\n",
    "import matplotlib.pyplot as plt\n",
    "import seaborn as sns\n",
    "import json\n",
    "\n",
    "from sklearn.preprocessing import StandardScaler\n",
    "from keras.layers import Input, Dense\n",
    "from keras.models import Model\n",
    "import matplotlib.pyplot as plt"
   ]
  },
  {
   "cell_type": "code",
   "execution_count": 2,
   "id": "aafe5eb1-edeb-406a-b583-b86ff682e1e5",
   "metadata": {},
   "outputs": [],
   "source": [
    "# Leer el archivo Excel ubicado en la ruta especificada y cargado en un DataFrame\n",
    "df = pd.read_csv('../Datos/PS_20174392719_1491204439457_log.csv')"
   ]
  },
  {
   "cell_type": "code",
   "execution_count": 3,
   "id": "6f9f0a3c-c112-4d7d-80c1-f4c5e9399ffc",
   "metadata": {},
   "outputs": [
    {
     "name": "stdout",
     "output_type": "stream",
     "text": [
      "Información general del DataFrame:\n",
      "\n",
      "<class 'pandas.core.frame.DataFrame'>\n",
      "RangeIndex: 6362620 entries, 0 to 6362619\n",
      "Data columns (total 11 columns):\n",
      " #   Column          Dtype  \n",
      "---  ------          -----  \n",
      " 0   step            int64  \n",
      " 1   type            object \n",
      " 2   amount          float64\n",
      " 3   nameOrig        object \n",
      " 4   oldbalanceOrg   float64\n",
      " 5   newbalanceOrig  float64\n",
      " 6   nameDest        object \n",
      " 7   oldbalanceDest  float64\n",
      " 8   newbalanceDest  float64\n",
      " 9   isFraud         int64  \n",
      " 10  isFlaggedFraud  int64  \n",
      "dtypes: float64(5), int64(3), object(3)\n",
      "memory usage: 534.0+ MB\n",
      "\n",
      " Memoria utilizada por el DataFrame (bytes):\n",
      "\n",
      "Index                   128\n",
      "step               50900960\n",
      "type              409895225\n",
      "amount             50900960\n",
      "nameOrig          429364380\n",
      "oldbalanceOrg      50900960\n",
      "newbalanceOrig     50900960\n",
      "nameDest          429360745\n",
      "oldbalanceDest     50900960\n",
      "newbalanceDest     50900960\n",
      "isFraud            50900960\n",
      "isFlaggedFraud     50900960\n",
      "dtype: int64\n"
     ]
    }
   ],
   "source": [
    "# Mostrar información general del DataFrame, incluyendo el número de entradas, nombres de las columnas,\n",
    "# tipo de datos de cada columna y el número de valores no nulos por columna.\n",
    "print(\"Información general del DataFrame:\\n\")\n",
    "df.info()\n",
    "\n",
    "# Mostrar la cantidad de memoria utilizada por el DataFrame en bytes.\n",
    "# El argumento 'deep=True' proporciona un cálculo más detallado de la memoria, incluyendo los objetos en las columnas.\n",
    "print(\"\\n Memoria utilizada por el DataFrame (bytes):\\n\")\n",
    "print(df.memory_usage(deep=True))"
   ]
  },
  {
   "cell_type": "markdown",
   "id": "f7d5a29e-4e1a-410a-b79c-1896dbb2344f",
   "metadata": {},
   "source": [
    "### **⭕️ Dimensiones del Dataframe (Filas x Columnas)**"
   ]
  },
  {
   "cell_type": "code",
   "execution_count": 4,
   "id": "cbfe8e5c-8637-4821-b504-61c21326f770",
   "metadata": {},
   "outputs": [
    {
     "name": "stdout",
     "output_type": "stream",
     "text": [
      "Forma de Dataframe: (6362620, 11)\n"
     ]
    }
   ],
   "source": [
    "#Forma del dataframe\n",
    "print(f'Forma de Dataframe: {df.shape}')"
   ]
  },
  {
   "cell_type": "markdown",
   "id": "68855eb0-9d09-48ce-a81f-dee117051564",
   "metadata": {},
   "source": [
    "#### **⭕️ Primeras filas del DataFrame**"
   ]
  },
  {
   "cell_type": "code",
   "execution_count": 5,
   "id": "ebf7e8ca-e5f9-4541-b53f-9d0fe3bf0c4c",
   "metadata": {},
   "outputs": [
    {
     "data": {
      "text/html": [
       "<div>\n",
       "<style scoped>\n",
       "    .dataframe tbody tr th:only-of-type {\n",
       "        vertical-align: middle;\n",
       "    }\n",
       "\n",
       "    .dataframe tbody tr th {\n",
       "        vertical-align: top;\n",
       "    }\n",
       "\n",
       "    .dataframe thead th {\n",
       "        text-align: right;\n",
       "    }\n",
       "</style>\n",
       "<table border=\"1\" class=\"dataframe\">\n",
       "  <thead>\n",
       "    <tr style=\"text-align: right;\">\n",
       "      <th></th>\n",
       "      <th>step</th>\n",
       "      <th>type</th>\n",
       "      <th>amount</th>\n",
       "      <th>nameOrig</th>\n",
       "      <th>oldbalanceOrg</th>\n",
       "      <th>newbalanceOrig</th>\n",
       "      <th>nameDest</th>\n",
       "      <th>oldbalanceDest</th>\n",
       "      <th>newbalanceDest</th>\n",
       "      <th>isFraud</th>\n",
       "      <th>isFlaggedFraud</th>\n",
       "    </tr>\n",
       "  </thead>\n",
       "  <tbody>\n",
       "    <tr>\n",
       "      <th>0</th>\n",
       "      <td>1</td>\n",
       "      <td>PAYMENT</td>\n",
       "      <td>9839.64</td>\n",
       "      <td>C1231006815</td>\n",
       "      <td>170136.0</td>\n",
       "      <td>160296.36</td>\n",
       "      <td>M1979787155</td>\n",
       "      <td>0.0</td>\n",
       "      <td>0.0</td>\n",
       "      <td>0</td>\n",
       "      <td>0</td>\n",
       "    </tr>\n",
       "    <tr>\n",
       "      <th>1</th>\n",
       "      <td>1</td>\n",
       "      <td>PAYMENT</td>\n",
       "      <td>1864.28</td>\n",
       "      <td>C1666544295</td>\n",
       "      <td>21249.0</td>\n",
       "      <td>19384.72</td>\n",
       "      <td>M2044282225</td>\n",
       "      <td>0.0</td>\n",
       "      <td>0.0</td>\n",
       "      <td>0</td>\n",
       "      <td>0</td>\n",
       "    </tr>\n",
       "    <tr>\n",
       "      <th>2</th>\n",
       "      <td>1</td>\n",
       "      <td>TRANSFER</td>\n",
       "      <td>181.00</td>\n",
       "      <td>C1305486145</td>\n",
       "      <td>181.0</td>\n",
       "      <td>0.00</td>\n",
       "      <td>C553264065</td>\n",
       "      <td>0.0</td>\n",
       "      <td>0.0</td>\n",
       "      <td>1</td>\n",
       "      <td>0</td>\n",
       "    </tr>\n",
       "    <tr>\n",
       "      <th>3</th>\n",
       "      <td>1</td>\n",
       "      <td>CASH_OUT</td>\n",
       "      <td>181.00</td>\n",
       "      <td>C840083671</td>\n",
       "      <td>181.0</td>\n",
       "      <td>0.00</td>\n",
       "      <td>C38997010</td>\n",
       "      <td>21182.0</td>\n",
       "      <td>0.0</td>\n",
       "      <td>1</td>\n",
       "      <td>0</td>\n",
       "    </tr>\n",
       "    <tr>\n",
       "      <th>4</th>\n",
       "      <td>1</td>\n",
       "      <td>PAYMENT</td>\n",
       "      <td>11668.14</td>\n",
       "      <td>C2048537720</td>\n",
       "      <td>41554.0</td>\n",
       "      <td>29885.86</td>\n",
       "      <td>M1230701703</td>\n",
       "      <td>0.0</td>\n",
       "      <td>0.0</td>\n",
       "      <td>0</td>\n",
       "      <td>0</td>\n",
       "    </tr>\n",
       "  </tbody>\n",
       "</table>\n",
       "</div>"
      ],
      "text/plain": [
       "   step      type    amount     nameOrig  oldbalanceOrg  newbalanceOrig  \\\n",
       "0     1   PAYMENT   9839.64  C1231006815       170136.0       160296.36   \n",
       "1     1   PAYMENT   1864.28  C1666544295        21249.0        19384.72   \n",
       "2     1  TRANSFER    181.00  C1305486145          181.0            0.00   \n",
       "3     1  CASH_OUT    181.00   C840083671          181.0            0.00   \n",
       "4     1   PAYMENT  11668.14  C2048537720        41554.0        29885.86   \n",
       "\n",
       "      nameDest  oldbalanceDest  newbalanceDest  isFraud  isFlaggedFraud  \n",
       "0  M1979787155             0.0             0.0        0               0  \n",
       "1  M2044282225             0.0             0.0        0               0  \n",
       "2   C553264065             0.0             0.0        1               0  \n",
       "3    C38997010         21182.0             0.0        1               0  \n",
       "4  M1230701703             0.0             0.0        0               0  "
      ]
     },
     "execution_count": 5,
     "metadata": {},
     "output_type": "execute_result"
    }
   ],
   "source": [
    "df.head()"
   ]
  },
  {
   "cell_type": "markdown",
   "id": "158a5a15-826d-4116-b9c7-93adc059522e",
   "metadata": {},
   "source": [
    "#### **⭕️ Últimas filas del DataFrame**"
   ]
  },
  {
   "cell_type": "code",
   "execution_count": 6,
   "id": "9dfe7cb6-1573-437b-b222-02a59c16c680",
   "metadata": {},
   "outputs": [
    {
     "data": {
      "text/html": [
       "<div>\n",
       "<style scoped>\n",
       "    .dataframe tbody tr th:only-of-type {\n",
       "        vertical-align: middle;\n",
       "    }\n",
       "\n",
       "    .dataframe tbody tr th {\n",
       "        vertical-align: top;\n",
       "    }\n",
       "\n",
       "    .dataframe thead th {\n",
       "        text-align: right;\n",
       "    }\n",
       "</style>\n",
       "<table border=\"1\" class=\"dataframe\">\n",
       "  <thead>\n",
       "    <tr style=\"text-align: right;\">\n",
       "      <th></th>\n",
       "      <th>step</th>\n",
       "      <th>type</th>\n",
       "      <th>amount</th>\n",
       "      <th>nameOrig</th>\n",
       "      <th>oldbalanceOrg</th>\n",
       "      <th>newbalanceOrig</th>\n",
       "      <th>nameDest</th>\n",
       "      <th>oldbalanceDest</th>\n",
       "      <th>newbalanceDest</th>\n",
       "      <th>isFraud</th>\n",
       "      <th>isFlaggedFraud</th>\n",
       "    </tr>\n",
       "  </thead>\n",
       "  <tbody>\n",
       "    <tr>\n",
       "      <th>6362615</th>\n",
       "      <td>743</td>\n",
       "      <td>CASH_OUT</td>\n",
       "      <td>339682.13</td>\n",
       "      <td>C786484425</td>\n",
       "      <td>339682.13</td>\n",
       "      <td>0.0</td>\n",
       "      <td>C776919290</td>\n",
       "      <td>0.00</td>\n",
       "      <td>339682.13</td>\n",
       "      <td>1</td>\n",
       "      <td>0</td>\n",
       "    </tr>\n",
       "    <tr>\n",
       "      <th>6362616</th>\n",
       "      <td>743</td>\n",
       "      <td>TRANSFER</td>\n",
       "      <td>6311409.28</td>\n",
       "      <td>C1529008245</td>\n",
       "      <td>6311409.28</td>\n",
       "      <td>0.0</td>\n",
       "      <td>C1881841831</td>\n",
       "      <td>0.00</td>\n",
       "      <td>0.00</td>\n",
       "      <td>1</td>\n",
       "      <td>0</td>\n",
       "    </tr>\n",
       "    <tr>\n",
       "      <th>6362617</th>\n",
       "      <td>743</td>\n",
       "      <td>CASH_OUT</td>\n",
       "      <td>6311409.28</td>\n",
       "      <td>C1162922333</td>\n",
       "      <td>6311409.28</td>\n",
       "      <td>0.0</td>\n",
       "      <td>C1365125890</td>\n",
       "      <td>68488.84</td>\n",
       "      <td>6379898.11</td>\n",
       "      <td>1</td>\n",
       "      <td>0</td>\n",
       "    </tr>\n",
       "    <tr>\n",
       "      <th>6362618</th>\n",
       "      <td>743</td>\n",
       "      <td>TRANSFER</td>\n",
       "      <td>850002.52</td>\n",
       "      <td>C1685995037</td>\n",
       "      <td>850002.52</td>\n",
       "      <td>0.0</td>\n",
       "      <td>C2080388513</td>\n",
       "      <td>0.00</td>\n",
       "      <td>0.00</td>\n",
       "      <td>1</td>\n",
       "      <td>0</td>\n",
       "    </tr>\n",
       "    <tr>\n",
       "      <th>6362619</th>\n",
       "      <td>743</td>\n",
       "      <td>CASH_OUT</td>\n",
       "      <td>850002.52</td>\n",
       "      <td>C1280323807</td>\n",
       "      <td>850002.52</td>\n",
       "      <td>0.0</td>\n",
       "      <td>C873221189</td>\n",
       "      <td>6510099.11</td>\n",
       "      <td>7360101.63</td>\n",
       "      <td>1</td>\n",
       "      <td>0</td>\n",
       "    </tr>\n",
       "  </tbody>\n",
       "</table>\n",
       "</div>"
      ],
      "text/plain": [
       "         step      type      amount     nameOrig  oldbalanceOrg  \\\n",
       "6362615   743  CASH_OUT   339682.13   C786484425      339682.13   \n",
       "6362616   743  TRANSFER  6311409.28  C1529008245     6311409.28   \n",
       "6362617   743  CASH_OUT  6311409.28  C1162922333     6311409.28   \n",
       "6362618   743  TRANSFER   850002.52  C1685995037      850002.52   \n",
       "6362619   743  CASH_OUT   850002.52  C1280323807      850002.52   \n",
       "\n",
       "         newbalanceOrig     nameDest  oldbalanceDest  newbalanceDest  isFraud  \\\n",
       "6362615             0.0   C776919290            0.00       339682.13        1   \n",
       "6362616             0.0  C1881841831            0.00            0.00        1   \n",
       "6362617             0.0  C1365125890        68488.84      6379898.11        1   \n",
       "6362618             0.0  C2080388513            0.00            0.00        1   \n",
       "6362619             0.0   C873221189      6510099.11      7360101.63        1   \n",
       "\n",
       "         isFlaggedFraud  \n",
       "6362615               0  \n",
       "6362616               0  \n",
       "6362617               0  \n",
       "6362618               0  \n",
       "6362619               0  "
      ]
     },
     "execution_count": 6,
     "metadata": {},
     "output_type": "execute_result"
    }
   ],
   "source": [
    "# ultimos registros\n",
    "df.tail()"
   ]
  },
  {
   "cell_type": "markdown",
   "id": "6aeedc39-63b2-4fe5-89a1-4dc0ff761d26",
   "metadata": {},
   "source": [
    "#### **⭕️ Tamaño total del DataFrame en términos de número de filas**"
   ]
  },
  {
   "cell_type": "code",
   "execution_count": 7,
   "id": "45cb0622-7bdf-407c-9e1d-e557084d89a4",
   "metadata": {},
   "outputs": [
    {
     "name": "stdout",
     "output_type": "stream",
     "text": [
      "Tamaño (Número de Filas): 6362620\n"
     ]
    }
   ],
   "source": [
    "# total de registros\n",
    "total_size = len(df)\n",
    "print(f'Tamaño (Número de Filas): {total_size}')"
   ]
  },
  {
   "cell_type": "markdown",
   "id": "2a4530da-0ae3-4a40-91d1-9054237effde",
   "metadata": {},
   "source": [
    "#### **⭕️ Columnas (Variables) en Dataframe**"
   ]
  },
  {
   "cell_type": "code",
   "execution_count": 8,
   "id": "07feb518-c50f-4901-8a2b-24e9dd911621",
   "metadata": {},
   "outputs": [
    {
     "name": "stdout",
     "output_type": "stream",
     "text": [
      "\n",
      "Nombres de las columnas:\n",
      "Index(['step', 'type', 'amount', 'nameOrig', 'oldbalanceOrg', 'newbalanceOrig',\n",
      "       'nameDest', 'oldbalanceDest', 'newbalanceDest', 'isFraud',\n",
      "       'isFlaggedFraud'],\n",
      "      dtype='object')\n"
     ]
    }
   ],
   "source": [
    "# nombres de las columnas\n",
    "print(\"\\nNombres de las columnas:\")\n",
    "print(df.columns)"
   ]
  },
  {
   "cell_type": "markdown",
   "id": "c1b6a17d-fcd7-4b8f-9a45-6744f6c2626f",
   "metadata": {},
   "source": [
    "#### **⭕️ Número Total de Variables**"
   ]
  },
  {
   "cell_type": "code",
   "execution_count": 9,
   "id": "4e7af275-7aba-4e77-bdfa-3807d7cde5c1",
   "metadata": {},
   "outputs": [
    {
     "name": "stdout",
     "output_type": "stream",
     "text": [
      "Número de variables (columnas): 11\n"
     ]
    }
   ],
   "source": [
    "# Número total de variables que contiene la base de datos.\n",
    "num_columnas = df.shape[1]\n",
    "print(f'Número de variables (columnas): {num_columnas}')"
   ]
  },
  {
   "cell_type": "markdown",
   "id": "4617f255-1791-4f8c-a039-68cc979d4074",
   "metadata": {},
   "source": [
    "#### **⭕️ Variables con datos faltantes, Porcentaje total de valores faltantes en la base de datos.**"
   ]
  },
  {
   "cell_type": "code",
   "execution_count": 10,
   "id": "bb6b61ac-cac3-48cd-bfc7-bcc07f38c3de",
   "metadata": {},
   "outputs": [
    {
     "name": "stdout",
     "output_type": "stream",
     "text": [
      "\n",
      "Cant. valores faltantes por columna:\n",
      "{}\n",
      "\n",
      "% valores faltantes por columna:\n",
      "{}\n"
     ]
    },
    {
     "data": {
      "image/png": "[encoded data removed]",
      "text/plain": [
       "<Figure size 600x300 with 1 Axes>"
      ]
     },
     "metadata": {},
     "output_type": "display_data"
    },
    {
     "name": "stdout",
     "output_type": "stream",
     "text": [
      "\n",
      "Porcentaje total de valores faltantes en la base de datos: 0.00%\n",
      "Porcentaje total de valores en la base de datos: 100.00%\n"
     ]
    }
   ],
   "source": [
    "def missing_values_per_column(df):\n",
    "    \"\"\"\n",
    "    Esta función analiza y muestra información sobre los valores faltantes en un DataFrame de pandas.\n",
    "    - Imprime el número de valores faltantes por columna.\n",
    "    - Calcula y muestra el porcentaje de valores faltantes por columna.\n",
    "    - Muestra el porcentaje total de valores faltantes en el DataFrame.\n",
    "    - Genera un gráfico de barras que visualiza el porcentaje de valores faltantes por columna.\n",
    "\n",
    "    Argumentos:\n",
    "    df -- DataFrame de pandas que se analiza para encontrar valores faltantes.\n",
    "\n",
    "    Retorno:\n",
    "    None\n",
    "    \"\"\"\n",
    "\n",
    "    # Paso 1: Encontrar columnas con valores faltantes y calcular la cantidad de valores faltantes por columna\n",
    "    faltantes_por_columna = df.isnull().sum()\n",
    "    \n",
    "    # Paso 2: Filtrar las columnas que tienen valores faltantes y convertir los resultados a un diccionario\n",
    "    data1 = faltantes_por_columna[faltantes_por_columna > 0]\n",
    "    variables_con_faltantes = data1.to_dict()\n",
    "    \n",
    "    # Imprimir la cantidad de valores faltantes por columna en formato JSON con sangría para mejor lectura\n",
    "    print('\\nCant. valores faltantes por columna:',\n",
    "          json.dumps(variables_con_faltantes, indent=4),\n",
    "          sep=\"\\n\")\n",
    "    \n",
    "    # Paso 3: Calcular el porcentaje de valores faltantes por columna y formatearlo como porcentaje\n",
    "    data = (data1 / len(df)) * 100\n",
    "    data = data.to_dict()\n",
    "    porcentaje_faltantes_por_columna = {key: f'{value:.2f}%' for key, value in data.items()}\n",
    "    \n",
    "    # Paso 4: Calcular el porcentaje total de valores faltantes en todo el DataFrame\n",
    "    porcentaje_total_faltantes = (df.isnull().sum().sum() / df.size) * 100\n",
    "    porcentaje_total_no_faltantes = (df.notnull().sum().sum() / df.size) * 100\n",
    "    \n",
    "    # Imprimir el porcentaje de valores faltantes por columna en formato JSON con sangría\n",
    "    print('\\n% valores faltantes por columna:', f'{json.dumps(porcentaje_faltantes_por_columna, indent=4)}', sep=\"\\n\")\n",
    "\n",
    "    # Crear un gráfico de barras para visualizar el porcentaje de valores faltantes por columna\n",
    "    plt.figure(figsize=(6, 3))\n",
    "    plt.bar(variables_con_faltantes.keys(), variables_con_faltantes.values(), color=['blue', 'orange', 'green'])\n",
    "    plt.title('Porcentaje de datos faltantes por columna')\n",
    "    plt.ylabel('Porcentaje')\n",
    "    plt.show()\n",
    "    \n",
    "    # Imprimir el porcentaje total de valores faltantes y no faltantes en el DataFrame\n",
    "    print(f\"\\nPorcentaje total de valores faltantes en la base de datos: {porcentaje_total_faltantes:.2f}%\")\n",
    "    print(f\"Porcentaje total de valores en la base de datos: {porcentaje_total_no_faltantes:.2f}%\")\n",
    "\n",
    "# Llamada a la función con el DataFrame 'df'\n",
    "missing_values_per_column(df)"
   ]
  },
  {
   "cell_type": "markdown",
   "id": "1a865c2f-cbee-4595-83ab-2dda64c9ed2b",
   "metadata": {},
   "source": [
    "## ⭕️ Autoencoder con Keras para Detección de Anomalías"
   ]
  },
  {
   "cell_type": "markdown",
   "id": "b21ca5a8-eeba-4bb1-90e8-51c4099ca97f",
   "metadata": {},
   "source": [
    "### ⭕️ Detección de anomalías no supervisado"
   ]
  },
  {
   "cell_type": "markdown",
   "id": "b891c844-0acd-4cf1-a45b-21ded1052c61",
   "metadata": {},
   "source": [
    "La detección de anomalías no supervisada es una técnica clave en el análisis de datos que permite identificar patrones atípicos o inusuales sin necesidad de datos etiquetados. A diferencia de los métodos supervisados, que requieren ejemplos previos de anomalías, este enfoque se basa en algoritmos que aprenden la estructura normal de los datos y destacan las desviaciones significativas. Es especialmente útil en aplicaciones como fraudes, fallos en equipos o seguridad, donde las anomalías son raras o desconocidas. Entre los métodos más comunes se encuentran el clustering, los modelos estadísticos y el aprendizaje automático basado en distancias o densidades."
   ]
  },
  {
   "cell_type": "markdown",
   "id": "6052adde-23e8-4885-8305-4e3725dab675",
   "metadata": {},
   "source": [
    "#### 📌 1. Preprocesamiento para Autoencoder"
   ]
  },
  {
   "cell_type": "markdown",
   "id": "48c24a0c-a4aa-4ce9-9e3b-84f4101d2154",
   "metadata": {},
   "source": [
    "En el contexto de la detección de fraude financiero, el reprocesamiento de datos es esencial para optimizar el rendimiento del autoencoder, dado el desbalance típico de los conjuntos de datos (donde las transacciones fraudulentas son mínimas comparadas con las legítimas). Para garantizar que el modelo aprenda eficientemente los patrones normales de las transacciones, se aplican técnicas como la normalización o estandarización de características, evitando que variables con magnitudes dispares (como montos o frecuencias de transacciones) dominen el entrenamiento. "
   ]
  },
  {
   "cell_type": "code",
   "execution_count": 11,
   "id": "9490f845-534d-43cc-b221-fce42e7c8d13",
   "metadata": {},
   "outputs": [],
   "source": [
    "dataset = df\n",
    "# Filtramos solo las transacciones normales para el entrenamiento\n",
    "df_normals = dataset[dataset.isFraud == 0].copy()\n",
    "\n",
    "# Seleccionamos características numéricas relevantes (excluimos nombres y etiquetas)\n",
    "features = ['step', 'amount', 'oldbalanceOrg', 'newbalanceOrig', 'oldbalanceDest', 'newbalanceDest']\n",
    "\n",
    "scaler = StandardScaler()\n",
    "X_train_scaled = scaler.fit_transform(df_normals[features])\n",
    "\n",
    "# También escalamos todo el dataset para detección después\n",
    "X_full_scaled = scaler.transform(dataset[features])"
   ]
  },
  {
   "cell_type": "markdown",
   "id": "4b94db04-17e4-406f-8a1e-0228274831ac",
   "metadata": {},
   "source": [
    "#### 📌 2. Construcción del Autoencoder"
   ]
  },
  {
   "cell_type": "markdown",
   "id": "58ad0bf2-e9cf-4925-be82-8c9d721071fe",
   "metadata": {},
   "source": [
    "El autoencoder implementado sigue una arquitectura simple pero efectiva, diseñada para manejar las características específicas de los datos financieros. Con una capa de entrada que acepta dimensiones igual al número de features (definido por `input_dim = X_train_scaled.shape[1]`), el modelo reduce la dimensionalidad a solo 4 neuronas en la capa codificada (`encoding_dim = 4`), utilizando la función de activación *ReLU* para introducir no linealidad y evitar valores negativos. La capa decodificada reconstruye la entrada original con activación *sigmoid*, normalizando las salidas entre 0 y 1 para facilitar la interpretación de los errores de reconstrucción. El modelo se compila con el optimizador *Adam* y la función de pérdida *Mean Squared Error (MSE)*, que penaliza las diferencias entre la entrada y la reconstrucción. Esta configuración permite que el autoencoder aprenda eficientemente los patrones normales de las transacciones, identificando como anomalías aquellas operaciones con mayores errores de reconstrucción, lo que es particularmente útil para detectar fraudes en datos altamente desbalanceados."
   ]
  },
  {
   "cell_type": "code",
   "execution_count": 12,
   "id": "c7f6d868-4bd6-4d1b-93bd-95119a6cac4e",
   "metadata": {},
   "outputs": [],
   "source": [
    "# Parámetros del autoencoder\n",
    "input_dim = X_train_scaled.shape[1]\n",
    "encoding_dim = 4  # Puedes ajustar este valor para ver diferentes resultados\n",
    "\n",
    "input_layer = Input(shape=(input_dim,))\n",
    "encoded = Dense(encoding_dim, activation='relu')(input_layer)\n",
    "decoded = Dense(input_dim, activation='sigmoid')(encoded)\n",
    "\n",
    "autoencoder = Model(inputs=input_layer, outputs=decoded)\n",
    "autoencoder.compile(optimizer='adam', loss='mean_squared_error')"
   ]
  },
  {
   "cell_type": "markdown",
   "id": "e4a6ed0e-f20a-4558-97d9-b451fe34781b",
   "metadata": {},
   "source": [
    "#### 📌 3. Entrenamiento del Autoencoder"
   ]
  },
  {
   "cell_type": "markdown",
   "id": "75eb1dc8-fab5-4093-9ac1-5deaba21b246",
   "metadata": {},
   "source": [
    "El modelo de autoencoder se entrenó durante 50 épocas utilizando un batch size de 64 muestras, optimizando la función de pérdida MSE mediante el algoritmo Adam. Para garantizar un entrenamiento robusto, se implementó una división del 20% del conjunto de entrenamiento como validación (validation_split=0.2), permitiendo monitorear el desempeño del modelo en datos no vistos durante el proceso de aprendizaje. El parámetro shuffle=True aseguró que los datos se mezclaran antes de cada época, evitando sesgos en el entrenamiento.\n",
    "\n",
    "La gráfica resultante muestra la evolución de la pérdida tanto en entrenamiento como en validación, donde se observa una disminución consistente en ambas métricas a lo largo de las épocas. Esta convergencia estable indica que el modelo está aprendiendo efectivamente la representación subyacente de las transacciones normales sin presentar sobreajuste. La capacidad del autoencoder para minimizar el error de reconstrucción en datos de validación sugiere que podrá generalizar adecuadamente a nuevas transacciones, aspecto crucial para identificar patrones fraudulentos que se desvían significativamente del comportamiento normal aprendido.\n"
   ]
  },
  {
   "cell_type": "code",
   "execution_count": 13,
   "id": "9509536e-05e8-49c3-9452-a24db25e35eb",
   "metadata": {},
   "outputs": [
    {
     "name": "stdout",
     "output_type": "stream",
     "text": [
      "Epoch 1/50\n",
      "\u001b[1m79431/79431\u001b[0m \u001b[32m━━━━━━━━━━━━━━━━━━━━\u001b[0m\u001b[37m\u001b[0m \u001b[1m26s\u001b[0m 327us/step - loss: 0.7067 - val_loss: 0.7686\n",
      "Epoch 2/50\n",
      "\u001b[1m79431/79431\u001b[0m \u001b[32m━━━━━━━━━━━━━━━━━━━━\u001b[0m\u001b[37m\u001b[0m \u001b[1m25s\u001b[0m 316us/step - loss: 0.6759 - val_loss: 0.7617\n",
      "Epoch 3/50\n",
      "\u001b[1m79431/79431\u001b[0m \u001b[32m━━━━━━━━━━━━━━━━━━━━\u001b[0m\u001b[37m\u001b[0m \u001b[1m27s\u001b[0m 333us/step - loss: 0.6923 - val_loss: 0.7524\n",
      "Epoch 4/50\n",
      "\u001b[1m79431/79431\u001b[0m \u001b[32m━━━━━━━━━━━━━━━━━━━━\u001b[0m\u001b[37m\u001b[0m \u001b[1m26s\u001b[0m 329us/step - loss: 0.6891 - val_loss: 0.7462\n",
      "Epoch 5/50\n",
      "\u001b[1m79431/79431\u001b[0m \u001b[32m━━━━━━━━━━━━━━━━━━━━\u001b[0m\u001b[37m\u001b[0m \u001b[1m28s\u001b[0m 351us/step - loss: 0.6713 - val_loss: 0.7418\n",
      "Epoch 6/50\n",
      "\u001b[1m79431/79431\u001b[0m \u001b[32m━━━━━━━━━━━━━━━━━━━━\u001b[0m\u001b[37m\u001b[0m \u001b[1m25s\u001b[0m 319us/step - loss: 0.6810 - val_loss: 0.7378\n",
      "Epoch 7/50\n",
      "\u001b[1m79431/79431\u001b[0m \u001b[32m━━━━━━━━━━━━━━━━━━━━\u001b[0m\u001b[37m\u001b[0m \u001b[1m26s\u001b[0m 324us/step - loss: 0.6792 - val_loss: 0.7349\n",
      "Epoch 8/50\n",
      "\u001b[1m79431/79431\u001b[0m \u001b[32m━━━━━━━━━━━━━━━━━━━━\u001b[0m\u001b[37m\u001b[0m \u001b[1m28s\u001b[0m 358us/step - loss: 0.6789 - val_loss: 0.7325\n",
      "Epoch 9/50\n",
      "\u001b[1m79431/79431\u001b[0m \u001b[32m━━━━━━━━━━━━━━━━━━━━\u001b[0m\u001b[37m\u001b[0m \u001b[1m27s\u001b[0m 340us/step - loss: 0.6793 - val_loss: 0.7306\n",
      "Epoch 10/50\n",
      "\u001b[1m79431/79431\u001b[0m \u001b[32m━━━━━━━━━━━━━━━━━━━━\u001b[0m\u001b[37m\u001b[0m \u001b[1m26s\u001b[0m 327us/step - loss: 0.6898 - val_loss: 0.7292\n",
      "Epoch 11/50\n",
      "\u001b[1m79431/79431\u001b[0m \u001b[32m━━━━━━━━━━━━━━━━━━━━\u001b[0m\u001b[37m\u001b[0m \u001b[1m25s\u001b[0m 320us/step - loss: 0.6834 - val_loss: 0.7276\n",
      "Epoch 12/50\n",
      "\u001b[1m79431/79431\u001b[0m \u001b[32m━━━━━━━━━━━━━━━━━━━━\u001b[0m\u001b[37m\u001b[0m \u001b[1m26s\u001b[0m 323us/step - loss: 0.6846 - val_loss: 0.7264\n",
      "Epoch 13/50\n",
      "\u001b[1m79431/79431\u001b[0m \u001b[32m━━━━━━━━━━━━━━━━━━━━\u001b[0m\u001b[37m\u001b[0m \u001b[1m26s\u001b[0m 322us/step - loss: 0.6828 - val_loss: 0.7251\n",
      "Epoch 14/50\n",
      "\u001b[1m79431/79431\u001b[0m \u001b[32m━━━━━━━━━━━━━━━━━━━━\u001b[0m\u001b[37m\u001b[0m \u001b[1m26s\u001b[0m 331us/step - loss: 0.6753 - val_loss: 0.7242\n",
      "Epoch 15/50\n",
      "\u001b[1m79431/79431\u001b[0m \u001b[32m━━━━━━━━━━━━━━━━━━━━\u001b[0m\u001b[37m\u001b[0m \u001b[1m25s\u001b[0m 317us/step - loss: 0.6762 - val_loss: 0.7236\n",
      "Epoch 16/50\n",
      "\u001b[1m79431/79431\u001b[0m \u001b[32m━━━━━━━━━━━━━━━━━━━━\u001b[0m\u001b[37m\u001b[0m \u001b[1m26s\u001b[0m 323us/step - loss: 0.6762 - val_loss: 0.7223\n",
      "Epoch 17/50\n",
      "\u001b[1m79431/79431\u001b[0m \u001b[32m━━━━━━━━━━━━━━━━━━━━\u001b[0m\u001b[37m\u001b[0m \u001b[1m26s\u001b[0m 326us/step - loss: 0.6817 - val_loss: 0.7209\n",
      "Epoch 18/50\n",
      "\u001b[1m79431/79431\u001b[0m \u001b[32m━━━━━━━━━━━━━━━━━━━━\u001b[0m\u001b[37m\u001b[0m \u001b[1m26s\u001b[0m 320us/step - loss: 0.6798 - val_loss: 0.7205\n",
      "Epoch 19/50\n",
      "\u001b[1m79431/79431\u001b[0m \u001b[32m━━━━━━━━━━━━━━━━━━━━\u001b[0m\u001b[37m\u001b[0m \u001b[1m28s\u001b[0m 346us/step - loss: 0.6790 - val_loss: 0.7191\n",
      "Epoch 20/50\n",
      "\u001b[1m79431/79431\u001b[0m \u001b[32m━━━━━━━━━━━━━━━━━━━━\u001b[0m\u001b[37m\u001b[0m \u001b[1m26s\u001b[0m 324us/step - loss: 0.6832 - val_loss: 0.7182\n",
      "Epoch 21/50\n",
      "\u001b[1m79431/79431\u001b[0m \u001b[32m━━━━━━━━━━━━━━━━━━━━\u001b[0m\u001b[37m\u001b[0m \u001b[1m26s\u001b[0m 329us/step - loss: 0.6745 - val_loss: 0.7177\n",
      "Epoch 22/50\n",
      "\u001b[1m79431/79431\u001b[0m \u001b[32m━━━━━━━━━━━━━━━━━━━━\u001b[0m\u001b[37m\u001b[0m \u001b[1m26s\u001b[0m 322us/step - loss: 0.6758 - val_loss: 0.7168\n",
      "Epoch 23/50\n",
      "\u001b[1m79431/79431\u001b[0m \u001b[32m━━━━━━━━━━━━━━━━━━━━\u001b[0m\u001b[37m\u001b[0m \u001b[1m26s\u001b[0m 321us/step - loss: 0.6848 - val_loss: 0.7158\n",
      "Epoch 24/50\n",
      "\u001b[1m79431/79431\u001b[0m \u001b[32m━━━━━━━━━━━━━━━━━━━━\u001b[0m\u001b[37m\u001b[0m \u001b[1m26s\u001b[0m 324us/step - loss: 0.6769 - val_loss: 0.7154\n",
      "Epoch 25/50\n",
      "\u001b[1m79431/79431\u001b[0m \u001b[32m━━━━━━━━━━━━━━━━━━━━\u001b[0m\u001b[37m\u001b[0m \u001b[1m26s\u001b[0m 324us/step - loss: 0.6726 - val_loss: 0.7149\n",
      "Epoch 26/50\n",
      "\u001b[1m79431/79431\u001b[0m \u001b[32m━━━━━━━━━━━━━━━━━━━━\u001b[0m\u001b[37m\u001b[0m \u001b[1m26s\u001b[0m 330us/step - loss: 0.6856 - val_loss: 0.7145\n",
      "Epoch 27/50\n",
      "\u001b[1m79431/79431\u001b[0m \u001b[32m━━━━━━━━━━━━━━━━━━━━\u001b[0m\u001b[37m\u001b[0m \u001b[1m26s\u001b[0m 323us/step - loss: 0.6790 - val_loss: 0.7141\n",
      "Epoch 28/50\n",
      "\u001b[1m79431/79431\u001b[0m \u001b[32m━━━━━━━━━━━━━━━━━━━━\u001b[0m\u001b[37m\u001b[0m \u001b[1m26s\u001b[0m 331us/step - loss: 0.6762 - val_loss: 0.7136\n",
      "Epoch 29/50\n",
      "\u001b[1m79431/79431\u001b[0m \u001b[32m━━━━━━━━━━━━━━━━━━━━\u001b[0m\u001b[37m\u001b[0m \u001b[1m26s\u001b[0m 322us/step - loss: 0.6863 - val_loss: 0.7132\n",
      "Epoch 30/50\n",
      "\u001b[1m79431/79431\u001b[0m \u001b[32m━━━━━━━━━━━━━━━━━━━━\u001b[0m\u001b[37m\u001b[0m \u001b[1m26s\u001b[0m 324us/step - loss: 0.6793 - val_loss: 0.7128\n",
      "Epoch 31/50\n",
      "\u001b[1m79431/79431\u001b[0m \u001b[32m━━━━━━━━━━━━━━━━━━━━\u001b[0m\u001b[37m\u001b[0m \u001b[1m26s\u001b[0m 321us/step - loss: 0.6790 - val_loss: 0.7127\n",
      "Epoch 32/50\n",
      "\u001b[1m79431/79431\u001b[0m \u001b[32m━━━━━━━━━━━━━━━━━━━━\u001b[0m\u001b[37m\u001b[0m \u001b[1m25s\u001b[0m 317us/step - loss: 0.6831 - val_loss: 0.7124\n",
      "Epoch 33/50\n",
      "\u001b[1m79431/79431\u001b[0m \u001b[32m━━━━━━━━━━━━━━━━━━━━\u001b[0m\u001b[37m\u001b[0m \u001b[1m27s\u001b[0m 334us/step - loss: 0.6736 - val_loss: 0.7125\n",
      "Epoch 34/50\n",
      "\u001b[1m79431/79431\u001b[0m \u001b[32m━━━━━━━━━━━━━━━━━━━━\u001b[0m\u001b[37m\u001b[0m \u001b[1m26s\u001b[0m 328us/step - loss: 0.6763 - val_loss: 0.7122\n",
      "Epoch 35/50\n",
      "\u001b[1m79431/79431\u001b[0m \u001b[32m━━━━━━━━━━━━━━━━━━━━\u001b[0m\u001b[37m\u001b[0m \u001b[1m26s\u001b[0m 331us/step - loss: 0.6814 - val_loss: 0.7119\n",
      "Epoch 36/50\n",
      "\u001b[1m79431/79431\u001b[0m \u001b[32m━━━━━━━━━━━━━━━━━━━━\u001b[0m\u001b[37m\u001b[0m \u001b[1m26s\u001b[0m 322us/step - loss: 0.6794 - val_loss: 0.7119\n",
      "Epoch 37/50\n",
      "\u001b[1m79431/79431\u001b[0m \u001b[32m━━━━━━━━━━━━━━━━━━━━\u001b[0m\u001b[37m\u001b[0m \u001b[1m25s\u001b[0m 319us/step - loss: 0.6823 - val_loss: 0.7120\n",
      "Epoch 38/50\n",
      "\u001b[1m79431/79431\u001b[0m \u001b[32m━━━━━━━━━━━━━━━━━━━━\u001b[0m\u001b[37m\u001b[0m \u001b[1m25s\u001b[0m 318us/step - loss: 0.6879 - val_loss: 0.7117\n",
      "Epoch 39/50\n",
      "\u001b[1m79431/79431\u001b[0m \u001b[32m━━━━━━━━━━━━━━━━━━━━\u001b[0m\u001b[37m\u001b[0m \u001b[1m26s\u001b[0m 328us/step - loss: 0.6884 - val_loss: 0.7119\n",
      "Epoch 40/50\n",
      "\u001b[1m79431/79431\u001b[0m \u001b[32m━━━━━━━━━━━━━━━━━━━━\u001b[0m\u001b[37m\u001b[0m \u001b[1m27s\u001b[0m 343us/step - loss: 0.6849 - val_loss: 0.7126\n",
      "Epoch 41/50\n",
      "\u001b[1m79431/79431\u001b[0m \u001b[32m━━━━━━━━━━━━━━━━━━━━\u001b[0m\u001b[37m\u001b[0m \u001b[1m26s\u001b[0m 321us/step - loss: 0.6782 - val_loss: 0.7120\n",
      "Epoch 42/50\n",
      "\u001b[1m79431/79431\u001b[0m \u001b[32m━━━━━━━━━━━━━━━━━━━━\u001b[0m\u001b[37m\u001b[0m \u001b[1m26s\u001b[0m 323us/step - loss: 0.6803 - val_loss: 0.7120\n",
      "Epoch 43/50\n",
      "\u001b[1m79431/79431\u001b[0m \u001b[32m━━━━━━━━━━━━━━━━━━━━\u001b[0m\u001b[37m\u001b[0m \u001b[1m25s\u001b[0m 320us/step - loss: 0.6875 - val_loss: 0.7121\n",
      "Epoch 44/50\n",
      "\u001b[1m79431/79431\u001b[0m \u001b[32m━━━━━━━━━━━━━━━━━━━━\u001b[0m\u001b[37m\u001b[0m \u001b[1m28s\u001b[0m 346us/step - loss: 0.6835 - val_loss: 0.7121\n",
      "Epoch 45/50\n",
      "\u001b[1m79431/79431\u001b[0m \u001b[32m━━━━━━━━━━━━━━━━━━━━\u001b[0m\u001b[37m\u001b[0m \u001b[1m25s\u001b[0m 315us/step - loss: 0.6830 - val_loss: 0.7120\n",
      "Epoch 46/50\n",
      "\u001b[1m79431/79431\u001b[0m \u001b[32m━━━━━━━━━━━━━━━━━━━━\u001b[0m\u001b[37m\u001b[0m \u001b[1m26s\u001b[0m 329us/step - loss: 0.6880 - val_loss: 0.7120\n",
      "Epoch 47/50\n",
      "\u001b[1m79431/79431\u001b[0m \u001b[32m━━━━━━━━━━━━━━━━━━━━\u001b[0m\u001b[37m\u001b[0m \u001b[1m29s\u001b[0m 368us/step - loss: 0.6898 - val_loss: 0.7117\n",
      "Epoch 48/50\n",
      "\u001b[1m79431/79431\u001b[0m \u001b[32m━━━━━━━━━━━━━━━━━━━━\u001b[0m\u001b[37m\u001b[0m \u001b[1m26s\u001b[0m 324us/step - loss: 0.6761 - val_loss: 0.7117\n",
      "Epoch 49/50\n",
      "\u001b[1m79431/79431\u001b[0m \u001b[32m━━━━━━━━━━━━━━━━━━━━\u001b[0m\u001b[37m\u001b[0m \u001b[1m27s\u001b[0m 336us/step - loss: 0.6803 - val_loss: 0.7115\n",
      "Epoch 50/50\n",
      "\u001b[1m79431/79431\u001b[0m \u001b[32m━━━━━━━━━━━━━━━━━━━━\u001b[0m\u001b[37m\u001b[0m \u001b[1m25s\u001b[0m 320us/step - loss: 0.6828 - val_loss: 0.7114\n"
     ]
    },
    {
     "data": {
      "image/png": "[encoded data removed]",
      "text/plain": [
       "<Figure size 640x480 with 1 Axes>"
      ]
     },
     "metadata": {},
     "output_type": "display_data"
    }
   ],
   "source": [
    "# Entrenamiento del modelo\n",
    "history = autoencoder.fit(X_train_scaled, X_train_scaled,\n",
    "                          epochs=50,\n",
    "                          batch_size=64,\n",
    "                          shuffle=True,\n",
    "                          validation_split=0.2,\n",
    "                          verbose=1)\n",
    "\n",
    "# Graficar la pérdida durante el entrenamiento\n",
    "plt.plot(history.history['loss'], label='Loss de entrenamiento')\n",
    "plt.plot(history.history['val_loss'], label='Loss de validación')\n",
    "plt.title('Pérdida durante el entrenamiento del Autoencoder')\n",
    "plt.xlabel('Épocas')\n",
    "plt.ylabel('Pérdida')\n",
    "plt.legend()\n",
    "plt.show()"
   ]
  },
  {
   "cell_type": "markdown",
   "id": "7fe6442e-d920-469e-b0ff-380f57f031f6",
   "metadata": {},
   "source": [
    "#### 📌 4. Evaluación y Detección de Anomalías"
   ]
  },
  {
   "cell_type": "markdown",
   "id": "4b6b2349-348d-43bc-9db1-15817f83aba0",
   "metadata": {},
   "source": [
    "El proceso de detección de anomalías se realizó calculando el Error Cuadrático Medio (MSE) entre las transacciones originales y sus reconstrucciones generadas por el autoencoder. Se estableció un umbral de decisión en el percentil 95 de los errores de reconstrucción (threshold = np.percentile(mse, 95)), clasificando como potenciales fraudes aquellas transacciones con MSE superior a este límite. Esta selección del percentil 95 permite enfocarse en las anomalías más significativas mientras se controla la tasa de falsos positivos.\n",
    "\n",
    "La evaluación del modelo se completó mediante métricas de clasificación, incluyendo matriz de confusión y un reporte completo (precision, recall, F1-score), que comparan las predicciones con las etiquetas reales de fraude (isFraud). Estos resultados permiten analizar el equilibrio entre la capacidad del modelo para detectar transacciones fraudulentas (recall) y su precisión al minimizar falsas alarmas, aspectos críticos en aplicaciones financieras donde ambos factores tienen consecuencias operacionales importantes. La selección del umbral puede ajustarse según los requisitos del negocio, priorizando mayor sensibilidad o precisión según sea necesario."
   ]
  },
  {
   "cell_type": "code",
   "execution_count": 14,
   "id": "1b039661-08d7-4f94-899b-b0fe2e286ac6",
   "metadata": {},
   "outputs": [
    {
     "name": "stdout",
     "output_type": "stream",
     "text": [
      "\u001b[1m198832/198832\u001b[0m \u001b[32m━━━━━━━━━━━━━━━━━━━━\u001b[0m\u001b[37m\u001b[0m \u001b[1m34s\u001b[0m 169us/step\n",
      "Umbral de error de reconstrucción: 1.048096200117732\n",
      "[[6038189  316218]\n",
      " [   6300    1913]]\n",
      "              precision    recall  f1-score   support\n",
      "\n",
      "           0       1.00      0.95      0.97   6354407\n",
      "           1       0.01      0.23      0.01      8213\n",
      "\n",
      "    accuracy                           0.95   6362620\n",
      "   macro avg       0.50      0.59      0.49   6362620\n",
      "weighted avg       1.00      0.95      0.97   6362620\n",
      "\n"
     ]
    }
   ],
   "source": [
    "# Reconstrucción de todas las muestras\n",
    "reconstructions = autoencoder.predict(X_full_scaled)\n",
    "mse = np.mean(np.power(X_full_scaled - reconstructions, 2), axis=1)\n",
    "\n",
    "# Establecer un umbral (puedes ajustarlo)\n",
    "threshold = np.percentile(mse, 95)\n",
    "print(\"Umbral de error de reconstrucción:\", threshold)\n",
    "\n",
    "# Identificar anomalías\n",
    "anomaly_flags = mse > threshold\n",
    "\n",
    "# Evaluar con las etiquetas verdaderas\n",
    "from sklearn.metrics import classification_report, confusion_matrix\n",
    "\n",
    "print(confusion_matrix(dataset['isFraud'], anomaly_flags))\n",
    "print(classification_report(dataset['isFraud'], anomaly_flags))"
   ]
  },
  {
   "cell_type": "markdown",
   "id": "0f882411-6bc5-4920-b6b1-83b7fb35d0ec",
   "metadata": {},
   "source": [
    "#### 📌 5. Mostrar Transacciones Sospechosas"
   ]
  },
  {
   "cell_type": "markdown",
   "id": "df299227-320e-428c-b08f-7ca2682c69b1",
   "metadata": {},
   "source": [
    "El sistema de detección de fraude generó un conjunto de transacciones sospechosas al filtrar aquellas operaciones cuyo error de reconstrucción superó el umbral establecido. Estas transacciones anómalas se almacenaron en un DataFrame independiente que incluye información crítica como: el monto (amount), el período temporal (step), el error de reconstrucción calculado (reconstruction_error) y su etiqueta real de fraude (isFraud). Esta presentación estructurada permite a los analistas financieros:\n",
    "\n",
    "- Priorizar la investigación al visualizar primero las operaciones con mayores errores de reconstrucción\n",
    "- Validar la efectividad del modelo comparando las predicciones (anomaly_flags) con los casos confirmados de fraude (isFraud)\n",
    "- Identificar patrones comunes en montos, tiempos u otras características de las transacciones marcadas como sospechosas\n",
    "\n",
    "La tabla resultante (.head()) ofrece una vista preliminar inmediata de estos casos críticos, sirviendo como punto de partida para análisis más profundos o acciones de mitigación en el sistema antifraude. La inclusión del error de reconstrucción cuantifica el grado de anomalía de cada transacción, permitiendo una evaluación jerárquica de riesgos."
   ]
  },
  {
   "cell_type": "code",
   "execution_count": 15,
   "id": "3dd6d177-a92b-4f5d-922c-ee37a36cd038",
   "metadata": {},
   "outputs": [
    {
     "data": {
      "text/html": [
       "<div>\n",
       "<style scoped>\n",
       "    .dataframe tbody tr th:only-of-type {\n",
       "        vertical-align: middle;\n",
       "    }\n",
       "\n",
       "    .dataframe tbody tr th {\n",
       "        vertical-align: top;\n",
       "    }\n",
       "\n",
       "    .dataframe thead th {\n",
       "        text-align: right;\n",
       "    }\n",
       "</style>\n",
       "<table border=\"1\" class=\"dataframe\">\n",
       "  <thead>\n",
       "    <tr style=\"text-align: right;\">\n",
       "      <th></th>\n",
       "      <th>amount</th>\n",
       "      <th>step</th>\n",
       "      <th>reconstruction_error</th>\n",
       "      <th>isFraud</th>\n",
       "    </tr>\n",
       "  </thead>\n",
       "  <tbody>\n",
       "    <tr>\n",
       "      <th>84</th>\n",
       "      <td>379856.23</td>\n",
       "      <td>1</td>\n",
       "      <td>3.242182</td>\n",
       "      <td>0</td>\n",
       "    </tr>\n",
       "    <tr>\n",
       "      <th>88</th>\n",
       "      <td>761507.39</td>\n",
       "      <td>1</td>\n",
       "      <td>3.176595</td>\n",
       "      <td>0</td>\n",
       "    </tr>\n",
       "    <tr>\n",
       "      <th>89</th>\n",
       "      <td>1429051.47</td>\n",
       "      <td>1</td>\n",
       "      <td>3.315045</td>\n",
       "      <td>0</td>\n",
       "    </tr>\n",
       "    <tr>\n",
       "      <th>94</th>\n",
       "      <td>1724887.05</td>\n",
       "      <td>1</td>\n",
       "      <td>3.465739</td>\n",
       "      <td>0</td>\n",
       "    </tr>\n",
       "    <tr>\n",
       "      <th>96</th>\n",
       "      <td>581294.26</td>\n",
       "      <td>1</td>\n",
       "      <td>3.048079</td>\n",
       "      <td>0</td>\n",
       "    </tr>\n",
       "  </tbody>\n",
       "</table>\n",
       "</div>"
      ],
      "text/plain": [
       "        amount  step  reconstruction_error  isFraud\n",
       "84   379856.23     1              3.242182        0\n",
       "88   761507.39     1              3.176595        0\n",
       "89  1429051.47     1              3.315045        0\n",
       "94  1724887.05     1              3.465739        0\n",
       "96   581294.26     1              3.048079        0"
      ]
     },
     "execution_count": 15,
     "metadata": {},
     "output_type": "execute_result"
    }
   ],
   "source": [
    "# Filtrar las transacciones sospechosas\n",
    "anomalous_transactions = dataset[anomaly_flags].copy()\n",
    "anomalous_transactions['reconstruction_error'] = mse[anomaly_flags]\n",
    "\n",
    "# Mostrar transacciones anómalas\n",
    "anomalous_transactions[['amount', 'step', 'reconstruction_error', 'isFraud']].head()"
   ]
  },
  {
   "cell_type": "markdown",
   "id": "53ec609c-79d2-4f2d-b28a-be1d4a952913",
   "metadata": {},
   "source": [
    "#### 📌 6. Visualización de los Errores de Reconstrucción"
   ]
  },
  {
   "cell_type": "markdown",
   "id": "50428e3b-f626-44ab-9572-784647cfdaed",
   "metadata": {},
   "source": [
    "El análisis gráfico de los errores de reconstrucción proporciona una comprensión clara del comportamiento del autoencoder y su capacidad para identificar transacciones sospechosas. El histograma generado muestra:\n",
    "\n",
    "- **Distribución de Errores:** Representa la frecuencia de los errores de reconstrucción (MSE) para todas las transacciones, donde la mayoría se concentra en valores bajos (comportamiento normal esperado)\n",
    "- **Umbral de Anomalía:** La línea vertical roja marca el percentil 95 de esta distribución (threshold), diferenciando visualmente las transacciones normales (izquierda del umbral) de las potencialmente fraudulentas (derecha del umbral)\n",
    "- **Identificación Visual de Outliers:** La cola derecha del histograma revela aquellos casos con errores excepcionalmente altos, que corresponden a las anomalías más significativas detectadas\n",
    "\n",
    "Esta visualización permite validar cuantitativamente que el modelo sigue el comportamiento esperado en detección de anomalías: la gran mayoría de transacciones tienen errores bajos (distribución sesgada a la izquierda), mientras que las fraudulentas aparecen como valores atípicos en la cola derecha. La posición del umbral puede ajustarse interactivamente según los requisitos de sensibilidad del sistema antifraude."
   ]
  },
  {
   "cell_type": "code",
   "execution_count": 16,
   "id": "56c7c912-8e53-4110-855f-eaf6823136da",
   "metadata": {},
   "outputs": [
    {
     "data": {
      "image/png": "[encoded data removed]",
      "text/plain": [
       "<Figure size 1000x600 with 1 Axes>"
      ]
     },
     "metadata": {},
     "output_type": "display_data"
    }
   ],
   "source": [
    "plt.figure(figsize=(10, 6))\n",
    "plt.hist(mse, bins=50, alpha=0.7, color='blue', label='Errores de reconstrucción')\n",
    "plt.axvline(x=threshold, color='red', linestyle='--', label='Umbral de anomalía')\n",
    "plt.title('Distribución de los Errores de Reconstrucción')\n",
    "plt.xlabel('Error de Reconstrucción')\n",
    "plt.ylabel('Frecuencia')\n",
    "plt.legend()\n",
    "plt.show()"
   ]
  },
  {
   "cell_type": "markdown",
   "id": "097a1269-2b37-4793-991a-a88662779b40",
   "metadata": {},
   "source": [
    "#### 📌 7. Revisión y ajuste del umbral de error de reconstrucción"
   ]
  },
  {
   "cell_type": "code",
   "execution_count": 18,
   "id": "da2216d2-3224-47e0-99b7-a4869cf6c4c5",
   "metadata": {},
   "outputs": [
    {
     "name": "stdout",
     "output_type": "stream",
     "text": [
      "Epoch 1/50\n",
      "\u001b[1m39716/39716\u001b[0m \u001b[32m━━━━━━━━━━━━━━━━━━━━\u001b[0m\u001b[37m\u001b[0m \u001b[1m13s\u001b[0m 324us/step - loss: 0.6087 - val_loss: 0.5945\n",
      "Epoch 2/50\n",
      "\u001b[1m39716/39716\u001b[0m \u001b[32m━━━━━━━━━━━━━━━━━━━━\u001b[0m\u001b[37m\u001b[0m \u001b[1m13s\u001b[0m 318us/step - loss: 0.5838 - val_loss: 0.5945\n",
      "Epoch 3/50\n",
      "\u001b[1m39716/39716\u001b[0m \u001b[32m━━━━━━━━━━━━━━━━━━━━\u001b[0m\u001b[37m\u001b[0m \u001b[1m14s\u001b[0m 354us/step - loss: 0.5756 - val_loss: 0.5944\n",
      "Epoch 4/50\n",
      "\u001b[1m39716/39716\u001b[0m \u001b[32m━━━━━━━━━━━━━━━━━━━━\u001b[0m\u001b[37m\u001b[0m \u001b[1m14s\u001b[0m 341us/step - loss: 0.5731 - val_loss: 0.5944\n",
      "Epoch 5/50\n",
      "\u001b[1m39716/39716\u001b[0m \u001b[32m━━━━━━━━━━━━━━━━━━━━\u001b[0m\u001b[37m\u001b[0m \u001b[1m13s\u001b[0m 334us/step - loss: 0.5713 - val_loss: 0.5944\n",
      "Epoch 6/50\n",
      "\u001b[1m39716/39716\u001b[0m \u001b[32m━━━━━━━━━━━━━━━━━━━━\u001b[0m\u001b[37m\u001b[0m \u001b[1m15s\u001b[0m 375us/step - loss: 0.5827 - val_loss: 0.5944\n",
      "Epoch 7/50\n",
      "\u001b[1m39716/39716\u001b[0m \u001b[32m━━━━━━━━━━━━━━━━━━━━\u001b[0m\u001b[37m\u001b[0m \u001b[1m13s\u001b[0m 326us/step - loss: 0.5807 - val_loss: 0.5944\n",
      "Epoch 8/50\n",
      "\u001b[1m39716/39716\u001b[0m \u001b[32m━━━━━━━━━━━━━━━━━━━━\u001b[0m\u001b[37m\u001b[0m \u001b[1m14s\u001b[0m 355us/step - loss: 0.5881 - val_loss: 0.5944\n",
      "Epoch 9/50\n",
      "\u001b[1m39716/39716\u001b[0m \u001b[32m━━━━━━━━━━━━━━━━━━━━\u001b[0m\u001b[37m\u001b[0m \u001b[1m13s\u001b[0m 332us/step - loss: 0.5877 - val_loss: 0.5944\n",
      "Epoch 10/50\n",
      "\u001b[1m39716/39716\u001b[0m \u001b[32m━━━━━━━━━━━━━━━━━━━━\u001b[0m\u001b[37m\u001b[0m \u001b[1m14s\u001b[0m 348us/step - loss: 0.5862 - val_loss: 0.5944\n",
      "Epoch 11/50\n",
      "\u001b[1m39716/39716\u001b[0m \u001b[32m━━━━━━━━━━━━━━━━━━━━\u001b[0m\u001b[37m\u001b[0m \u001b[1m13s\u001b[0m 334us/step - loss: 0.5860 - val_loss: 0.5944\n",
      "Epoch 12/50\n",
      "\u001b[1m39716/39716\u001b[0m \u001b[32m━━━━━━━━━━━━━━━━━━━━\u001b[0m\u001b[37m\u001b[0m \u001b[1m13s\u001b[0m 335us/step - loss: 0.5799 - val_loss: 0.5944\n",
      "Epoch 13/50\n",
      "\u001b[1m39716/39716\u001b[0m \u001b[32m━━━━━━━━━━━━━━━━━━━━\u001b[0m\u001b[37m\u001b[0m \u001b[1m14s\u001b[0m 348us/step - loss: 0.5794 - val_loss: 0.5944\n",
      "Epoch 14/50\n",
      "\u001b[1m39716/39716\u001b[0m \u001b[32m━━━━━━━━━━━━━━━━━━━━\u001b[0m\u001b[37m\u001b[0m \u001b[1m14s\u001b[0m 341us/step - loss: 0.5833 - val_loss: 0.5944\n",
      "Epoch 15/50\n",
      "\u001b[1m39716/39716\u001b[0m \u001b[32m━━━━━━━━━━━━━━━━━━━━\u001b[0m\u001b[37m\u001b[0m \u001b[1m13s\u001b[0m 330us/step - loss: 0.5758 - val_loss: 0.5944\n",
      "Epoch 16/50\n",
      "\u001b[1m39716/39716\u001b[0m \u001b[32m━━━━━━━━━━━━━━━━━━━━\u001b[0m\u001b[37m\u001b[0m \u001b[1m13s\u001b[0m 328us/step - loss: 0.5782 - val_loss: 0.5944\n",
      "Epoch 17/50\n",
      "\u001b[1m39716/39716\u001b[0m \u001b[32m━━━━━━━━━━━━━━━━━━━━\u001b[0m\u001b[37m\u001b[0m \u001b[1m14s\u001b[0m 358us/step - loss: 0.5841 - val_loss: 0.5944\n",
      "Epoch 18/50\n",
      "\u001b[1m39716/39716\u001b[0m \u001b[32m━━━━━━━━━━━━━━━━━━━━\u001b[0m\u001b[37m\u001b[0m \u001b[1m14s\u001b[0m 347us/step - loss: 0.5877 - val_loss: 0.5944\n",
      "Epoch 19/50\n",
      "\u001b[1m39716/39716\u001b[0m \u001b[32m━━━━━━━━━━━━━━━━━━━━\u001b[0m\u001b[37m\u001b[0m \u001b[1m14s\u001b[0m 344us/step - loss: 0.5892 - val_loss: 0.5944\n",
      "Epoch 20/50\n",
      "\u001b[1m39716/39716\u001b[0m \u001b[32m━━━━━━━━━━━━━━━━━━━━\u001b[0m\u001b[37m\u001b[0m \u001b[1m14s\u001b[0m 349us/step - loss: 0.5812 - val_loss: 0.5944\n",
      "Epoch 21/50\n",
      "\u001b[1m39716/39716\u001b[0m \u001b[32m━━━━━━━━━━━━━━━━━━━━\u001b[0m\u001b[37m\u001b[0m \u001b[1m14s\u001b[0m 343us/step - loss: 0.5855 - val_loss: 0.5944\n",
      "Epoch 22/50\n",
      "\u001b[1m39716/39716\u001b[0m \u001b[32m━━━━━━━━━━━━━━━━━━━━\u001b[0m\u001b[37m\u001b[0m \u001b[1m14s\u001b[0m 350us/step - loss: 0.5785 - val_loss: 0.5944\n",
      "Epoch 23/50\n",
      "\u001b[1m39716/39716\u001b[0m \u001b[32m━━━━━━━━━━━━━━━━━━━━\u001b[0m\u001b[37m\u001b[0m \u001b[1m13s\u001b[0m 334us/step - loss: 0.5887 - val_loss: 0.5945\n",
      "Epoch 24/50\n",
      "\u001b[1m39716/39716\u001b[0m \u001b[32m━━━━━━━━━━━━━━━━━━━━\u001b[0m\u001b[37m\u001b[0m \u001b[1m13s\u001b[0m 328us/step - loss: 0.5799 - val_loss: 0.5945\n",
      "Epoch 25/50\n",
      "\u001b[1m39716/39716\u001b[0m \u001b[32m━━━━━━━━━━━━━━━━━━━━\u001b[0m\u001b[37m\u001b[0m \u001b[1m13s\u001b[0m 329us/step - loss: 0.5793 - val_loss: 0.5944\n",
      "Epoch 26/50\n",
      "\u001b[1m39716/39716\u001b[0m \u001b[32m━━━━━━━━━━━━━━━━━━━━\u001b[0m\u001b[37m\u001b[0m \u001b[1m14s\u001b[0m 344us/step - loss: 0.5850 - val_loss: 0.5944\n",
      "Epoch 27/50\n",
      "\u001b[1m39716/39716\u001b[0m \u001b[32m━━━━━━━━━━━━━━━━━━━━\u001b[0m\u001b[37m\u001b[0m \u001b[1m13s\u001b[0m 335us/step - loss: 0.5746 - val_loss: 0.5944\n",
      "Epoch 28/50\n",
      "\u001b[1m39716/39716\u001b[0m \u001b[32m━━━━━━━━━━━━━━━━━━━━\u001b[0m\u001b[37m\u001b[0m \u001b[1m14s\u001b[0m 346us/step - loss: 0.5821 - val_loss: 0.5944\n",
      "Epoch 29/50\n",
      "\u001b[1m39716/39716\u001b[0m \u001b[32m━━━━━━━━━━━━━━━━━━━━\u001b[0m\u001b[37m\u001b[0m \u001b[1m13s\u001b[0m 333us/step - loss: 0.5817 - val_loss: 0.5944\n",
      "Epoch 30/50\n",
      "\u001b[1m39716/39716\u001b[0m \u001b[32m━━━━━━━━━━━━━━━━━━━━\u001b[0m\u001b[37m\u001b[0m \u001b[1m14s\u001b[0m 345us/step - loss: 0.5797 - val_loss: 0.5944\n",
      "Epoch 31/50\n",
      "\u001b[1m39716/39716\u001b[0m \u001b[32m━━━━━━━━━━━━━━━━━━━━\u001b[0m\u001b[37m\u001b[0m \u001b[1m14s\u001b[0m 346us/step - loss: 0.5797 - val_loss: 0.5944\n",
      "Epoch 32/50\n",
      "\u001b[1m39716/39716\u001b[0m \u001b[32m━━━━━━━━━━━━━━━━━━━━\u001b[0m\u001b[37m\u001b[0m \u001b[1m14s\u001b[0m 339us/step - loss: 0.5895 - val_loss: 0.5944\n",
      "Epoch 33/50\n",
      "\u001b[1m39716/39716\u001b[0m \u001b[32m━━━━━━━━━━━━━━━━━━━━\u001b[0m\u001b[37m\u001b[0m \u001b[1m13s\u001b[0m 323us/step - loss: 0.5830 - val_loss: 0.5944\n",
      "Epoch 34/50\n",
      "\u001b[1m39716/39716\u001b[0m \u001b[32m━━━━━━━━━━━━━━━━━━━━\u001b[0m\u001b[37m\u001b[0m \u001b[1m13s\u001b[0m 324us/step - loss: 0.5851 - val_loss: 0.5944\n",
      "Epoch 35/50\n",
      "\u001b[1m39716/39716\u001b[0m \u001b[32m━━━━━━━━━━━━━━━━━━━━\u001b[0m\u001b[37m\u001b[0m \u001b[1m15s\u001b[0m 374us/step - loss: 0.5836 - val_loss: 0.5944\n",
      "Epoch 36/50\n",
      "\u001b[1m39716/39716\u001b[0m \u001b[32m━━━━━━━━━━━━━━━━━━━━\u001b[0m\u001b[37m\u001b[0m \u001b[1m14s\u001b[0m 340us/step - loss: 0.5778 - val_loss: 0.5944\n",
      "Epoch 37/50\n",
      "\u001b[1m39716/39716\u001b[0m \u001b[32m━━━━━━━━━━━━━━━━━━━━\u001b[0m\u001b[37m\u001b[0m \u001b[1m14s\u001b[0m 345us/step - loss: 0.5935 - val_loss: 0.5944\n",
      "Epoch 38/50\n",
      "\u001b[1m39716/39716\u001b[0m \u001b[32m━━━━━━━━━━━━━━━━━━━━\u001b[0m\u001b[37m\u001b[0m \u001b[1m16s\u001b[0m 401us/step - loss: 0.5895 - val_loss: 0.5944\n",
      "Epoch 39/50\n",
      "\u001b[1m39716/39716\u001b[0m \u001b[32m━━━━━━━━━━━━━━━━━━━━\u001b[0m\u001b[37m\u001b[0m \u001b[1m14s\u001b[0m 354us/step - loss: 0.5845 - val_loss: 0.5944\n",
      "Epoch 40/50\n",
      "\u001b[1m39716/39716\u001b[0m \u001b[32m━━━━━━━━━━━━━━━━━━━━\u001b[0m\u001b[37m\u001b[0m \u001b[1m14s\u001b[0m 344us/step - loss: 0.5850 - val_loss: 0.5945\n",
      "Epoch 41/50\n",
      "\u001b[1m39716/39716\u001b[0m \u001b[32m━━━━━━━━━━━━━━━━━━━━\u001b[0m\u001b[37m\u001b[0m \u001b[1m14s\u001b[0m 339us/step - loss: 0.5894 - val_loss: 0.5944\n",
      "Epoch 42/50\n",
      "\u001b[1m39716/39716\u001b[0m \u001b[32m━━━━━━━━━━━━━━━━━━━━\u001b[0m\u001b[37m\u001b[0m \u001b[1m14s\u001b[0m 339us/step - loss: 0.5722 - val_loss: 0.5944\n",
      "Epoch 43/50\n",
      "\u001b[1m39716/39716\u001b[0m \u001b[32m━━━━━━━━━━━━━━━━━━━━\u001b[0m\u001b[37m\u001b[0m \u001b[1m13s\u001b[0m 328us/step - loss: 0.5850 - val_loss: 0.5944\n",
      "Epoch 44/50\n",
      "\u001b[1m39716/39716\u001b[0m \u001b[32m━━━━━━━━━━━━━━━━━━━━\u001b[0m\u001b[37m\u001b[0m \u001b[1m14s\u001b[0m 343us/step - loss: 0.5869 - val_loss: 0.5944\n",
      "Epoch 45/50\n",
      "\u001b[1m39716/39716\u001b[0m \u001b[32m━━━━━━━━━━━━━━━━━━━━\u001b[0m\u001b[37m\u001b[0m \u001b[1m13s\u001b[0m 336us/step - loss: 0.5819 - val_loss: 0.5944\n",
      "Epoch 46/50\n",
      "\u001b[1m39716/39716\u001b[0m \u001b[32m━━━━━━━━━━━━━━━━━━━━\u001b[0m\u001b[37m\u001b[0m \u001b[1m13s\u001b[0m 330us/step - loss: 0.5786 - val_loss: 0.5944\n",
      "Epoch 47/50\n",
      "\u001b[1m39716/39716\u001b[0m \u001b[32m━━━━━━━━━━━━━━━━━━━━\u001b[0m\u001b[37m\u001b[0m \u001b[1m14s\u001b[0m 340us/step - loss: 0.5852 - val_loss: 0.5944\n",
      "Epoch 48/50\n",
      "\u001b[1m39716/39716\u001b[0m \u001b[32m━━━━━━━━━━━━━━━━━━━━\u001b[0m\u001b[37m\u001b[0m \u001b[1m14s\u001b[0m 353us/step - loss: 0.5823 - val_loss: 0.5944\n",
      "Epoch 49/50\n",
      "\u001b[1m39716/39716\u001b[0m \u001b[32m━━━━━━━━━━━━━━━━━━━━\u001b[0m\u001b[37m\u001b[0m \u001b[1m14s\u001b[0m 348us/step - loss: 0.5866 - val_loss: 0.5944\n",
      "Epoch 50/50\n",
      "\u001b[1m39716/39716\u001b[0m \u001b[32m━━━━━━━━━━━━━━━━━━━━\u001b[0m\u001b[37m\u001b[0m \u001b[1m14s\u001b[0m 340us/step - loss: 0.5743 - val_loss: 0.5944\n",
      "\u001b[1m198832/198832\u001b[0m \u001b[32m━━━━━━━━━━━━━━━━━━━━\u001b[0m\u001b[37m\u001b[0m \u001b[1m36s\u001b[0m 179us/step\n"
     ]
    },
    {
     "name": "stderr",
     "output_type": "stream",
     "text": [
      "/Users/jiliarsilgado/anaconda3/envs/npl_ean_final_2024/lib/python3.10/site-packages/sklearn/metrics/_classification.py:1565: UndefinedMetricWarning: Precision is ill-defined and being set to 0.0 due to no predicted samples. Use `zero_division` parameter to control this behavior.\n",
      "  _warn_prf(average, modifier, f\"{metric.capitalize()} is\", len(result))\n"
     ]
    },
    {
     "name": "stdout",
     "output_type": "stream",
     "text": [
      "Mejor umbral: 1147.254484\n",
      "Precisión: 0.1090\n",
      "Recall: 0.0021\n",
      "F1 Score: 0.0041\n"
     ]
    },
    {
     "data": {
      "image/png": "[encoded data removed]",
      "text/plain": [
       "<Figure size 1000x500 with 1 Axes>"
      ]
     },
     "metadata": {},
     "output_type": "display_data"
    }
   ],
   "source": [
    "from sklearn.model_selection import train_test_split\n",
    "from sklearn.preprocessing import StandardScaler\n",
    "from sklearn.metrics import precision_score, recall_score, f1_score\n",
    "import matplotlib.pyplot as plt\n",
    "from keras.models import Model\n",
    "from keras.layers import Input, Dense\n",
    "\n",
    "# Filtramos las transacciones NO FRAUDULENTAS para entrenar el autoencoder\n",
    "X = dataset.drop(columns=['isFraud', 'nameOrig', 'nameDest', 'type'])\n",
    "y = dataset['isFraud']\n",
    "\n",
    "# Normalizamos\n",
    "scaler = StandardScaler()\n",
    "X_scaled = scaler.fit_transform(X)\n",
    "\n",
    "# Entrenamos solo con datos normales\n",
    "X_normal = X_scaled[y == 0]\n",
    "\n",
    "# Dividir para entrenamiento y validación\n",
    "X_train, X_val = train_test_split(X_normal, test_size=0.2, random_state=42)\n",
    "\n",
    "# Autoencoder básico\n",
    "input_dim = X_train.shape[1]\n",
    "encoding_dim = 10\n",
    "\n",
    "input_layer = Input(shape=(input_dim,))\n",
    "encoded = Dense(encoding_dim, activation='relu')(input_layer)\n",
    "decoded = Dense(input_dim, activation='sigmoid')(encoded)\n",
    "\n",
    "autoencoder = Model(inputs=input_layer, outputs=decoded)\n",
    "autoencoder.compile(optimizer='adam', loss='mean_squared_error')\n",
    "\n",
    "# Entrenar el modelo\n",
    "autoencoder.fit(X_train, X_train,\n",
    "                epochs=50,\n",
    "                batch_size=128,\n",
    "                shuffle=True,\n",
    "                validation_data=(X_val, X_val),\n",
    "                verbose=1)\n",
    "\n",
    "# --------- Evaluación del umbral ---------\n",
    "# Se usa TODO el dataset normalizado\n",
    "X_pred = autoencoder.predict(X_scaled)\n",
    "reconstruction_error = np.mean(np.power(X_scaled - X_pred, 2), axis=1)\n",
    "\n",
    "# Probar distintos umbrales\n",
    "thresholds = np.linspace(min(reconstruction_error), max(reconstruction_error), 100)\n",
    "metrics = []\n",
    "\n",
    "for threshold in thresholds:\n",
    "    y_pred = (reconstruction_error > threshold).astype(int)\n",
    "    precision = precision_score(y, y_pred)\n",
    "    recall = recall_score(y, y_pred)\n",
    "    f1 = f1_score(y, y_pred)\n",
    "    metrics.append((threshold, precision, recall, f1))\n",
    "\n",
    "# Umbral óptimo (máximo F1)\n",
    "best = max(metrics, key=lambda x: x[3])\n",
    "print(f\"Mejor umbral: {best[0]:.6f}\")\n",
    "print(f\"Precisión: {best[1]:.4f}\")\n",
    "print(f\"Recall: {best[2]:.4f}\")\n",
    "print(f\"F1 Score: {best[3]:.4f}\")\n",
    "\n",
    "# Gráfica F1 vs umbral\n",
    "thresholds_plot = [x[0] for x in metrics]\n",
    "f1_scores = [x[3] for x in metrics]\n",
    "\n",
    "plt.figure(figsize=(10, 5))\n",
    "plt.plot(thresholds_plot, f1_scores, label='F1 Score')\n",
    "plt.axvline(best[0], color='r', linestyle='--', label=f'Mejor Umbral ({best[0]:.6f})')\n",
    "plt.title('F1 Score vs Umbral de Reconstrucción')\n",
    "plt.xlabel('Umbral')\n",
    "plt.ylabel('F1 Score')\n",
    "plt.legend()\n",
    "plt.grid(True)\n",
    "plt.show()"
   ]
  },
  {
   "cell_type": "markdown",
   "id": "a2df9458-e576-4fd3-b5fa-62f19b6edf58",
   "metadata": {},
   "source": [
    "#### 📌 7. Resultados y conclusiones"
   ]
  },
  {
   "cell_type": "markdown",
   "id": "6ffbfd7e-8342-4cee-83ca-5189d4a2afc8",
   "metadata": {},
   "source": [
    "⸻\n",
    "\n",
    "### 🔍 Fase 1: Entrenamiento inicial del Autoencoder\n",
    "- Pérdida de entrenamiento inicial: comenzó en 0.7067 y descendió a 0.6828.\n",
    "- Pérdida de validación: de 0.7686 a 0.7114, mostrando una convergencia progresiva pero lenta.\n",
    "- Esto indica que el modelo aprende, aunque con mejoras marginales después de la época 30.\n",
    "- Sugerencia: podrías aplicar early stopping con patience=10 para ahorrar tiempo computacional.\n",
    "\n",
    "⸻\n",
    "\n",
    "### 🧪 Evaluación y Detección de Anomalías\n",
    "\n",
    "Matriz de confusión:\n",
    "\n",
    "[[6038189  316218]   ← clase 0 (no fraude)\n",
    " [   6300    1913]]   ← clase 1 (fraude)\n",
    "\n",
    "- Accuracy: ~95% → engañoso por el desbalance de clases.\n",
    "- Recall clase 1 (fraude): 23%, bastante bajo.\n",
    "- Precision clase 1: ~1%, también muy baja.\n",
    "- F1-score clase 1: ~1%\n",
    "\n",
    "🔴 Esto indica que aunque el modelo detecta algunos fraudes, la mayoría no son detectados y hay demasiados falsos positivos (errores de tipo I).\n",
    "\n",
    "⸻\n",
    "\n",
    "###  📉 Errores de reconstrucción y umbral\n",
    "- Umbral de reconstrucción usado: 1.048\n",
    "- Ejemplos de transacciones con errores muy altos (ej: >3.0) fueron clasificadas como no fraudulentas (isFraud = 0), lo que indica que hay anomalías naturales en los datos no asociadas a fraude.\n",
    "\n",
    "Esto sugiere que:\n",
    "- El umbral es probablemente muy bajo y está generando muchos falsos positivos.\n",
    "- O bien, el modelo aún no aprende suficientemente bien las distribuciones normales.\n",
    "\n",
    "⸻\n",
    "\n",
    "###  🔁 Reentrenamiento / Ajuste\n",
    "\n",
    "En esta etapa el modelo fue reentrenado con otro conjunto o configuración.\n",
    "Pérdida de validación se mantuvo constante en ~0.5944 durante 40+ épocas, lo que sugiere estancamiento del aprendizaje.\n",
    "\n",
    "**Posibles causas:**\n",
    "- El conjunto de entrenamiento fue insuficiente o muy homogéneo.\n",
    "- La arquitectura no es adecuada.\n",
    "- El modelo ha alcanzado su capacidad de generalización.\n",
    "- Se debe buscar otras alternativas.\n"
   ]
  },
  {
   "cell_type": "code",
   "execution_count": null,
   "id": "9b3dfcfb-05b8-406f-aabd-7db71caf7c7d",
   "metadata": {},
   "outputs": [],
   "source": []
  }
 ],
 "metadata": {
  "kernelspec": {
   "display_name": "Python 3 (ipykernel)",
   "language": "python",
   "name": "python3"
  },
  "language_info": {
   "codemirror_mode": {
    "name": "ipython",
    "version": 3
   },
   "file_extension": ".py",
   "mimetype": "text/x-python",
   "name": "python",
   "nbconvert_exporter": "python",
   "pygments_lexer": "ipython3",
   "version": "3.10.15"
  }
 },
 "nbformat": 4,
 "nbformat_minor": 5
}
